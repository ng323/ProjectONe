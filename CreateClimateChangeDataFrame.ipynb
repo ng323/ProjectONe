{
 "cells": [
  {
   "cell_type": "code",
   "execution_count": 3,
   "metadata": {
    "collapsed": true
   },
   "outputs": [],
   "source": [
    "import pandas as pd"
   ]
  },
  {
   "cell_type": "code",
   "execution_count": 9,
   "metadata": {},
   "outputs": [
    {
     "data": {
      "text/html": [
       "<div>\n",
       "<style>\n",
       "    .dataframe thead tr:only-child th {\n",
       "        text-align: right;\n",
       "    }\n",
       "\n",
       "    .dataframe thead th {\n",
       "        text-align: left;\n",
       "    }\n",
       "\n",
       "    .dataframe tbody tr th {\n",
       "        vertical-align: top;\n",
       "    }\n",
       "</style>\n",
       "<table border=\"1\" class=\"dataframe\">\n",
       "  <thead>\n",
       "    <tr style=\"text-align: right;\">\n",
       "      <th></th>\n",
       "      <th>dt</th>\n",
       "      <th>AverageTemperature</th>\n",
       "      <th>AverageTemperatureUncertainty</th>\n",
       "      <th>Country</th>\n",
       "    </tr>\n",
       "  </thead>\n",
       "  <tbody>\n",
       "    <tr>\n",
       "      <th>0</th>\n",
       "      <td>1743-11-01</td>\n",
       "      <td>4.384</td>\n",
       "      <td>2.294</td>\n",
       "      <td>Åland</td>\n",
       "    </tr>\n",
       "    <tr>\n",
       "      <th>1</th>\n",
       "      <td>1743-12-01</td>\n",
       "      <td>NaN</td>\n",
       "      <td>NaN</td>\n",
       "      <td>Åland</td>\n",
       "    </tr>\n",
       "    <tr>\n",
       "      <th>2</th>\n",
       "      <td>1744-01-01</td>\n",
       "      <td>NaN</td>\n",
       "      <td>NaN</td>\n",
       "      <td>Åland</td>\n",
       "    </tr>\n",
       "    <tr>\n",
       "      <th>3</th>\n",
       "      <td>1744-02-01</td>\n",
       "      <td>NaN</td>\n",
       "      <td>NaN</td>\n",
       "      <td>Åland</td>\n",
       "    </tr>\n",
       "    <tr>\n",
       "      <th>4</th>\n",
       "      <td>1744-03-01</td>\n",
       "      <td>NaN</td>\n",
       "      <td>NaN</td>\n",
       "      <td>Åland</td>\n",
       "    </tr>\n",
       "  </tbody>\n",
       "</table>\n",
       "</div>"
      ],
      "text/plain": [
       "           dt  AverageTemperature  AverageTemperatureUncertainty Country\n",
       "0  1743-11-01               4.384                          2.294   Åland\n",
       "1  1743-12-01                 NaN                            NaN   Åland\n",
       "2  1744-01-01                 NaN                            NaN   Åland\n",
       "3  1744-02-01                 NaN                            NaN   Åland\n",
       "4  1744-03-01                 NaN                            NaN   Åland"
      ]
     },
     "execution_count": 9,
     "metadata": {},
     "output_type": "execute_result"
    }
   ],
   "source": [
    "#Create a reference the CSV file desired\n",
    "csv_path = \"GlobalLandTemperaturesByCountry.csv\"\n",
    "\n",
    "# Read the CSV into a Pandas DataFrame\n",
    "climateChange_df = pd.read_csv(csv_path)\n",
    "\n",
    "# Print the first five rows of data to the screen\n",
    "climateChange_df.head()\n"
   ]
  },
  {
   "cell_type": "code",
   "execution_count": 22,
   "metadata": {},
   "outputs": [
    {
     "data": {
      "text/plain": [
       "Country        Year\n",
       "United States  1990     9.521583\n",
       "               1991     9.493667\n",
       "               1992     9.056333\n",
       "               1993     8.867250\n",
       "               1994     9.270333\n",
       "               1995     9.331000\n",
       "               1996     8.754333\n",
       "               1997     9.172917\n",
       "               1998    10.141167\n",
       "               1999     9.567000\n",
       "               2000     9.649750\n",
       "               2001     9.785583\n",
       "               2002     9.816167\n",
       "               2003     9.755083\n",
       "               2004     9.667500\n",
       "               2005     9.892667\n",
       "               2006     9.974500\n",
       "               2007     9.837500\n",
       "               2008     8.951417\n",
       "               2009     9.137083\n",
       "               2010     9.505583\n",
       "               2011     9.549917\n",
       "               2012    10.261083\n",
       "               2013    11.297111\n",
       "Name: AverageTemperature, dtype: float64"
      ]
     },
     "execution_count": 22,
     "metadata": {},
     "output_type": "execute_result"
    }
   ],
   "source": [
    "# add column year from dt\n",
    "climateChange_df['Year']=climateChange_df['dt'].str[:4]\n",
    "climateChange_df.head()\n",
    "\n",
    "\n",
    "# only save data from 1990. original data source has data from year 1750 \n",
    "RecentClimateChange_df = climateChange_df.loc[climateChange_df[\"Year\"] > \"1989\",:]\n",
    "\n",
    "#dataframe only for USA\n",
    "RecentClimateChangeUSA_df = RecentClimateChange_df.loc[RecentClimateChange_df[\"Country\"] == \"United States\",:]\n",
    "\n",
    "# get yearly average temp from monthly average temps\n",
    "grouped_df = RecentClimateChangeUSA_df.groupby([\"Country\",\"Year\"])\n",
    "grouped_df.head()\n",
    "\n",
    "ClimateChangeCountryYearly_df = grouped_df[\"AverageTemperature\"].mean()\n",
    "ClimateChangeCountryYearly_df.head(300)\n"
   ]
  },
  {
   "cell_type": "code",
   "execution_count": null,
   "metadata": {
    "collapsed": true
   },
   "outputs": [],
   "source": []
  }
 ],
 "metadata": {
  "kernelspec": {
   "display_name": "Python 3",
   "language": "python",
   "name": "python3"
  },
  "language_info": {
   "codemirror_mode": {
    "name": "ipython",
    "version": 3
   },
   "file_extension": ".py",
   "mimetype": "text/x-python",
   "name": "python",
   "nbconvert_exporter": "python",
   "pygments_lexer": "ipython3",
   "version": "3.6.3"
  }
 },
 "nbformat": 4,
 "nbformat_minor": 2
}
