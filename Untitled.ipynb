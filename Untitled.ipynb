{
 "cells": [
  {
   "cell_type": "code",
   "execution_count": 1,
   "metadata": {
    "collapsed": true
   },
   "outputs": [],
   "source": [
    "import pandas as pd\n"
   ]
  },
  {
   "cell_type": "code",
   "execution_count": 2,
   "metadata": {},
   "outputs": [
    {
     "data": {
      "text/html": [
       "<div>\n",
       "<style>\n",
       "    .dataframe thead tr:only-child th {\n",
       "        text-align: right;\n",
       "    }\n",
       "\n",
       "    .dataframe thead th {\n",
       "        text-align: left;\n",
       "    }\n",
       "\n",
       "    .dataframe tbody tr th {\n",
       "        vertical-align: top;\n",
       "    }\n",
       "</style>\n",
       "<table border=\"1\" class=\"dataframe\">\n",
       "  <thead>\n",
       "    <tr style=\"text-align: right;\">\n",
       "      <th></th>\n",
       "      <th>Country (or dependent territory)</th>\n",
       "      <th>1985</th>\n",
       "      <th>1990</th>\n",
       "      <th>1995</th>\n",
       "      <th>2000</th>\n",
       "      <th>2005</th>\n",
       "      <th>2010</th>\n",
       "      <th>2015</th>\n",
       "    </tr>\n",
       "  </thead>\n",
       "  <tbody>\n",
       "    <tr>\n",
       "      <th>0</th>\n",
       "      <td>Afghanistan</td>\n",
       "      <td>13,120,000</td>\n",
       "      <td>13,569,000</td>\n",
       "      <td>19,446,000</td>\n",
       "      <td>22,462,000</td>\n",
       "      <td>26,335,000</td>\n",
       "      <td>29,121,000</td>\n",
       "      <td>32,565,000</td>\n",
       "    </tr>\n",
       "    <tr>\n",
       "      <th>1</th>\n",
       "      <td>Albania</td>\n",
       "      <td>2,957,000</td>\n",
       "      <td>3,245,000</td>\n",
       "      <td>3,159,000</td>\n",
       "      <td>3,159,000</td>\n",
       "      <td>3,025,000</td>\n",
       "      <td>2,987,000</td>\n",
       "      <td>3,030,000</td>\n",
       "    </tr>\n",
       "    <tr>\n",
       "      <th>2</th>\n",
       "      <td>Algeria</td>\n",
       "      <td>22,009,000</td>\n",
       "      <td>25,191,000</td>\n",
       "      <td>28,322,000</td>\n",
       "      <td>30,639,000</td>\n",
       "      <td>32,918,000</td>\n",
       "      <td>35,950,000</td>\n",
       "      <td>39,543,000</td>\n",
       "    </tr>\n",
       "    <tr>\n",
       "      <th>3</th>\n",
       "      <td>American Samoa</td>\n",
       "      <td>39000</td>\n",
       "      <td>48000</td>\n",
       "      <td>54000</td>\n",
       "      <td>58000</td>\n",
       "      <td>57000</td>\n",
       "      <td>56000</td>\n",
       "      <td>55000</td>\n",
       "    </tr>\n",
       "    <tr>\n",
       "      <th>4</th>\n",
       "      <td>Andorra</td>\n",
       "      <td>45000</td>\n",
       "      <td>53000</td>\n",
       "      <td>64000</td>\n",
       "      <td>66000</td>\n",
       "      <td>77000</td>\n",
       "      <td>85000</td>\n",
       "      <td>86000</td>\n",
       "    </tr>\n",
       "  </tbody>\n",
       "</table>\n",
       "</div>"
      ],
      "text/plain": [
       "  Country (or dependent territory)        1985        1990        1995  \\\n",
       "0                      Afghanistan  13,120,000  13,569,000  19,446,000   \n",
       "1                          Albania   2,957,000   3,245,000   3,159,000   \n",
       "2                          Algeria  22,009,000  25,191,000  28,322,000   \n",
       "3                   American Samoa       39000       48000       54000   \n",
       "4                          Andorra       45000       53000       64000   \n",
       "\n",
       "         2000        2005        2010        2015  \n",
       "0  22,462,000  26,335,000  29,121,000  32,565,000  \n",
       "1   3,159,000   3,025,000   2,987,000   3,030,000  \n",
       "2  30,639,000  32,918,000  35,950,000  39,543,000  \n",
       "3       58000       57000       56000       55000  \n",
       "4       66000       77000       85000       86000  "
      ]
     },
     "execution_count": 2,
     "metadata": {},
     "output_type": "execute_result"
    }
   ],
   "source": [
    "\n",
    "#Create a reference the CSV file desired\n",
    "csv_path = \"Historical Populations by Country.csv\"\n",
    "\n",
    "# Read the CSV into a Pandas DataFrame\n",
    "population_df = pd.read_csv(csv_path, encoding = \"ISO-8859-1\")\n",
    "\n",
    "# Print the first five rows of data to the screen\n",
    "population_df.head()"
   ]
  },
  {
   "cell_type": "code",
   "execution_count": 3,
   "metadata": {},
   "outputs": [
    {
     "data": {
      "text/html": [
       "<div>\n",
       "<style>\n",
       "    .dataframe thead tr:only-child th {\n",
       "        text-align: right;\n",
       "    }\n",
       "\n",
       "    .dataframe thead th {\n",
       "        text-align: left;\n",
       "    }\n",
       "\n",
       "    .dataframe tbody tr th {\n",
       "        vertical-align: top;\n",
       "    }\n",
       "</style>\n",
       "<table border=\"1\" class=\"dataframe\">\n",
       "  <thead>\n",
       "    <tr style=\"text-align: right;\">\n",
       "      <th></th>\n",
       "      <th>Country (or dependent territory)</th>\n",
       "      <th>2000</th>\n",
       "      <th>2005</th>\n",
       "      <th>2010</th>\n",
       "      <th>2015</th>\n",
       "    </tr>\n",
       "  </thead>\n",
       "  <tbody>\n",
       "    <tr>\n",
       "      <th>0</th>\n",
       "      <td>Afghanistan</td>\n",
       "      <td>22,462,000</td>\n",
       "      <td>26,335,000</td>\n",
       "      <td>29,121,000</td>\n",
       "      <td>32,565,000</td>\n",
       "    </tr>\n",
       "    <tr>\n",
       "      <th>1</th>\n",
       "      <td>Albania</td>\n",
       "      <td>3,159,000</td>\n",
       "      <td>3,025,000</td>\n",
       "      <td>2,987,000</td>\n",
       "      <td>3,030,000</td>\n",
       "    </tr>\n",
       "    <tr>\n",
       "      <th>2</th>\n",
       "      <td>Algeria</td>\n",
       "      <td>30,639,000</td>\n",
       "      <td>32,918,000</td>\n",
       "      <td>35,950,000</td>\n",
       "      <td>39,543,000</td>\n",
       "    </tr>\n",
       "    <tr>\n",
       "      <th>3</th>\n",
       "      <td>American Samoa</td>\n",
       "      <td>58000</td>\n",
       "      <td>57000</td>\n",
       "      <td>56000</td>\n",
       "      <td>55000</td>\n",
       "    </tr>\n",
       "    <tr>\n",
       "      <th>4</th>\n",
       "      <td>Andorra</td>\n",
       "      <td>66000</td>\n",
       "      <td>77000</td>\n",
       "      <td>85000</td>\n",
       "      <td>86000</td>\n",
       "    </tr>\n",
       "  </tbody>\n",
       "</table>\n",
       "</div>"
      ],
      "text/plain": [
       "  Country (or dependent territory)        2000        2005        2010  \\\n",
       "0                      Afghanistan  22,462,000  26,335,000  29,121,000   \n",
       "1                          Albania   3,159,000   3,025,000   2,987,000   \n",
       "2                          Algeria  30,639,000  32,918,000  35,950,000   \n",
       "3                   American Samoa       58000       57000       56000   \n",
       "4                          Andorra       66000       77000       85000   \n",
       "\n",
       "         2015  \n",
       "0  32,565,000  \n",
       "1   3,030,000  \n",
       "2  39,543,000  \n",
       "3       55000  \n",
       "4       86000  "
      ]
     },
     "execution_count": 3,
     "metadata": {},
     "output_type": "execute_result"
    }
   ],
   "source": [
    "population_df= population_df.drop(population_df.columns[[1,2,3]], axis=1)\n",
    "population_df.head()"
   ]
  },
  {
   "cell_type": "code",
   "execution_count": 4,
   "metadata": {},
   "outputs": [
    {
     "ename": "ValueError",
     "evalue": "Unable to parse string \"26,335,000\" at position 0",
     "output_type": "error",
     "traceback": [
      "\u001b[1;31m---------------------------------------------------------------------------\u001b[0m",
      "\u001b[1;31mValueError\u001b[0m                                Traceback (most recent call last)",
      "\u001b[1;32mpandas/_libs/src\\inference.pyx\u001b[0m in \u001b[0;36mpandas._libs.lib.maybe_convert_numeric\u001b[1;34m()\u001b[0m\n",
      "\u001b[1;31mValueError\u001b[0m: Unable to parse string \"26,335,000\"",
      "\nDuring handling of the above exception, another exception occurred:\n",
      "\u001b[1;31mValueError\u001b[0m                                Traceback (most recent call last)",
      "\u001b[1;32m<ipython-input-4-de9fc4748a7f>\u001b[0m in \u001b[0;36m<module>\u001b[1;34m()\u001b[0m\n\u001b[1;32m----> 1\u001b[1;33m \u001b[0mchunk_2000_2005\u001b[0m\u001b[1;33m=\u001b[0m \u001b[1;33m(\u001b[0m\u001b[0mpd\u001b[0m\u001b[1;33m.\u001b[0m\u001b[0mto_numeric\u001b[0m\u001b[1;33m(\u001b[0m\u001b[0mpopulation_df\u001b[0m\u001b[1;33m[\u001b[0m\u001b[1;34m\"2005\"\u001b[0m\u001b[1;33m]\u001b[0m\u001b[1;33m)\u001b[0m\u001b[1;33m-\u001b[0m\u001b[0mpd\u001b[0m\u001b[1;33m.\u001b[0m\u001b[0mto_numeric\u001b[0m\u001b[1;33m(\u001b[0m\u001b[0mpopulation_df\u001b[0m\u001b[1;33m[\u001b[0m\u001b[1;34m\"2000\"\u001b[0m\u001b[1;33m]\u001b[0m\u001b[1;33m)\u001b[0m\u001b[1;33m)\u001b[0m\u001b[1;33m/\u001b[0m\u001b[1;36m5\u001b[0m\u001b[1;33m\u001b[0m\u001b[0m\n\u001b[0m\u001b[0;32m      2\u001b[0m \u001b[1;33m\u001b[0m\u001b[0m\n\u001b[0;32m      3\u001b[0m \u001b[0mpop_2001\u001b[0m\u001b[1;33m=\u001b[0m \u001b[0mpopulation_df\u001b[0m\u001b[1;33m[\u001b[0m\u001b[1;34m\"2000\"\u001b[0m\u001b[1;33m]\u001b[0m\u001b[1;33m+\u001b[0m\u001b[0mchunk_2000_2005\u001b[0m\u001b[1;33m\u001b[0m\u001b[0m\n\u001b[0;32m      4\u001b[0m \u001b[0mpop_2002\u001b[0m\u001b[1;33m=\u001b[0m \u001b[0mpopulation_df\u001b[0m\u001b[1;33m[\u001b[0m\u001b[1;34m\"2000\"\u001b[0m\u001b[1;33m]\u001b[0m\u001b[1;33m+\u001b[0m\u001b[1;33m(\u001b[0m\u001b[0mchunk_2000_2005\u001b[0m\u001b[1;33m)\u001b[0m\u001b[1;33m*\u001b[0m\u001b[1;36m2\u001b[0m\u001b[1;33m\u001b[0m\u001b[0m\n\u001b[0;32m      5\u001b[0m \u001b[0mpop_2003\u001b[0m\u001b[1;33m=\u001b[0m \u001b[0mpopulation_df\u001b[0m\u001b[1;33m[\u001b[0m\u001b[1;34m\"2000\"\u001b[0m\u001b[1;33m]\u001b[0m\u001b[1;33m+\u001b[0m\u001b[1;33m(\u001b[0m\u001b[0mchunk_2000_2005\u001b[0m\u001b[1;33m)\u001b[0m\u001b[1;33m*\u001b[0m\u001b[1;36m3\u001b[0m\u001b[1;33m\u001b[0m\u001b[0m\n",
      "\u001b[1;32m~\\Anaconda3\\lib\\site-packages\\pandas\\core\\tools\\numeric.py\u001b[0m in \u001b[0;36mto_numeric\u001b[1;34m(arg, errors, downcast)\u001b[0m\n\u001b[0;32m    124\u001b[0m             \u001b[0mcoerce_numeric\u001b[0m \u001b[1;33m=\u001b[0m \u001b[1;32mFalse\u001b[0m \u001b[1;32mif\u001b[0m \u001b[0merrors\u001b[0m \u001b[1;32min\u001b[0m \u001b[1;33m(\u001b[0m\u001b[1;34m'ignore'\u001b[0m\u001b[1;33m,\u001b[0m \u001b[1;34m'raise'\u001b[0m\u001b[1;33m)\u001b[0m \u001b[1;32melse\u001b[0m \u001b[1;32mTrue\u001b[0m\u001b[1;33m\u001b[0m\u001b[0m\n\u001b[0;32m    125\u001b[0m             values = lib.maybe_convert_numeric(values, set(),\n\u001b[1;32m--> 126\u001b[1;33m                                                coerce_numeric=coerce_numeric)\n\u001b[0m\u001b[0;32m    127\u001b[0m \u001b[1;33m\u001b[0m\u001b[0m\n\u001b[0;32m    128\u001b[0m     \u001b[1;32mexcept\u001b[0m \u001b[0mException\u001b[0m\u001b[1;33m:\u001b[0m\u001b[1;33m\u001b[0m\u001b[0m\n",
      "\u001b[1;32mpandas/_libs/src\\inference.pyx\u001b[0m in \u001b[0;36mpandas._libs.lib.maybe_convert_numeric\u001b[1;34m()\u001b[0m\n",
      "\u001b[1;31mValueError\u001b[0m: Unable to parse string \"26,335,000\" at position 0"
     ]
    }
   ],
   "source": [
    "chunk_2000_2005= (pd.to_numeric(population_df[\"2005\"])-pd.to_numeric(population_df[\"2000\"]))/5\n",
    "\n",
    "pop_2001= population_df[\"2000\"]+chunk_2000_2005\n",
    "pop_2002= population_df[\"2000\"]+(chunk_2000_2005)*2\n",
    "pop_2003= population_df[\"2000\"]+(chunk_2000_2005)*3\n",
    "pop_2004= population_df[\"2000\"]+(chunk_2000_2005)*4\n",
    "\n",
    "population_df[\"2001\"]= pop_2001.astype(int)\n",
    "population_df[\"2002\"]= pop_2002.astype(int)\n",
    "population_df[\"2003\"]= pop_2003.astype(int)\n",
    "population_df[\"2004\"]= pop_2004.astype(int)\n",
    "\n",
    "chunk_2005_2010= (pd.to_numeric(population_df[\"2010\"])-pd.to_numeric(population_df[\"2005\"]))/5\n",
    "\n",
    "pop_2006= population_df[\"2005\"]+chunk_2005_2010\n",
    "pop_2007= population_df[\"2005\"]+(chunk_2005_2010)*2\n",
    "pop_2008= population_df[\"2005\"]+(chunk_2005_2010)*3\n",
    "pop_2009= population_df[\"2005\"]+(chunk_2005_2010)*4\n",
    "\n",
    "population_df[\"2006\"]= pop_2006.astype(int)\n",
    "population_df[\"2007\"]= pop_2007.astype(int)\n",
    "population_df[\"2008\"]= pop_2008.astype(int)\n",
    "population_df[\"2009\"]= pop_2009.astype(int)\n",
    "\n",
    "\n",
    "#Add \n",
    "chunk_2010_2015= (pd.to_numeric(population_df[\"2015\"])-pd.to_numeric(population_df[\"2010\"]))/5\n",
    "\n",
    "pop_2011= population_df[\"2010\"]+chunk_2010_2015\n",
    "pop_2012= population_df[\"2010\"]+(chunk_2010_2015)*2\n",
    "pop_2013= population_df[\"2010\"]+(chunk_2010_2015)*3\n",
    "\n",
    "population_df[\"2011\"]= pop_2011.astype(int)\n",
    "population_df[\"2012\"]= pop_2012.astype(int)\n",
    "population_df[\"2013\"]= pop_2013.astype(int)\n",
    "\n",
    "population_df.head()"
   ]
  },
  {
   "cell_type": "code",
   "execution_count": null,
   "metadata": {
    "collapsed": true
   },
   "outputs": [],
   "source": [
    "grouped_population= population_df.groupby(\"Country\",as_index=False)\n",
    "grouped_population.head(5)"
   ]
  },
  {
   "cell_type": "code",
   "execution_count": null,
   "metadata": {
    "collapsed": true
   },
   "outputs": [],
   "source": [
    "melt_population= pd.melt(population_df, id_vars='Country', value_vars=[\"2000\",\"2005\",\"2010\",\"2015\",\"2001\",\"2002\",\"2003\",\"2004\",\"2006\",\"2007\",\"2008\",\"2009\",\"2011\",\"2012\",\"2013\"])\n",
    "melt_population.head()\n"
   ]
  },
  {
   "cell_type": "code",
   "execution_count": null,
   "metadata": {
    "collapsed": true
   },
   "outputs": [],
   "source": []
  },
  {
   "cell_type": "code",
   "execution_count": null,
   "metadata": {
    "collapsed": true
   },
   "outputs": [],
   "source": []
  },
  {
   "cell_type": "code",
   "execution_count": null,
   "metadata": {
    "collapsed": true
   },
   "outputs": [],
   "source": []
  },
  {
   "cell_type": "code",
   "execution_count": null,
   "metadata": {
    "collapsed": true
   },
   "outputs": [],
   "source": []
  },
  {
   "cell_type": "code",
   "execution_count": null,
   "metadata": {
    "collapsed": true
   },
   "outputs": [],
   "source": []
  }
 ],
 "metadata": {
  "kernelspec": {
   "display_name": "Python 3",
   "language": "python",
   "name": "python3"
  },
  "language_info": {
   "codemirror_mode": {
    "name": "ipython",
    "version": 3
   },
   "file_extension": ".py",
   "mimetype": "text/x-python",
   "name": "python",
   "nbconvert_exporter": "python",
   "pygments_lexer": "ipython3",
   "version": "3.6.3"
  }
 },
 "nbformat": 4,
 "nbformat_minor": 2
}
