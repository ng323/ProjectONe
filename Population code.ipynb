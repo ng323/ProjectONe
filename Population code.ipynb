{
 "cells": [
  {
   "cell_type": "code",
   "execution_count": 2,
   "metadata": {
    "collapsed": true
   },
   "outputs": [],
   "source": [
    "import pandas as pd\n",
    "import csv"
   ]
  },
  {
   "cell_type": "code",
   "execution_count": 6,
   "metadata": {},
   "outputs": [
    {
     "data": {
      "text/html": [
       "<div>\n",
       "<style>\n",
       "    .dataframe thead tr:only-child th {\n",
       "        text-align: right;\n",
       "    }\n",
       "\n",
       "    .dataframe thead th {\n",
       "        text-align: left;\n",
       "    }\n",
       "\n",
       "    .dataframe tbody tr th {\n",
       "        vertical-align: top;\n",
       "    }\n",
       "</style>\n",
       "<table border=\"1\" class=\"dataframe\">\n",
       "  <thead>\n",
       "    <tr style=\"text-align: right;\">\n",
       "      <th></th>\n",
       "      <th>Country</th>\n",
       "      <th>1985</th>\n",
       "      <th>1990</th>\n",
       "      <th>1995</th>\n",
       "      <th>2000</th>\n",
       "      <th>2005</th>\n",
       "      <th>2010</th>\n",
       "      <th>2015</th>\n",
       "    </tr>\n",
       "  </thead>\n",
       "  <tbody>\n",
       "    <tr>\n",
       "      <th>0</th>\n",
       "      <td>Afghanistan</td>\n",
       "      <td>13,120,000</td>\n",
       "      <td>13,569,000</td>\n",
       "      <td>19,446,000</td>\n",
       "      <td>22,462,000</td>\n",
       "      <td>26,335,000</td>\n",
       "      <td>29,121,000</td>\n",
       "      <td>32,565,000</td>\n",
       "    </tr>\n",
       "    <tr>\n",
       "      <th>1</th>\n",
       "      <td>Albania</td>\n",
       "      <td>2,957,000</td>\n",
       "      <td>3,245,000</td>\n",
       "      <td>3,159,000</td>\n",
       "      <td>3,159,000</td>\n",
       "      <td>3,025,000</td>\n",
       "      <td>2,987,000</td>\n",
       "      <td>3,030,000</td>\n",
       "    </tr>\n",
       "    <tr>\n",
       "      <th>2</th>\n",
       "      <td>Algeria</td>\n",
       "      <td>22,009,000</td>\n",
       "      <td>25,191,000</td>\n",
       "      <td>28,322,000</td>\n",
       "      <td>30,639,000</td>\n",
       "      <td>32,918,000</td>\n",
       "      <td>35,950,000</td>\n",
       "      <td>39,543,000</td>\n",
       "    </tr>\n",
       "    <tr>\n",
       "      <th>3</th>\n",
       "      <td>American Samoa</td>\n",
       "      <td>39000</td>\n",
       "      <td>48000</td>\n",
       "      <td>54000</td>\n",
       "      <td>58000</td>\n",
       "      <td>57000</td>\n",
       "      <td>56000</td>\n",
       "      <td>55000</td>\n",
       "    </tr>\n",
       "    <tr>\n",
       "      <th>4</th>\n",
       "      <td>Andorra</td>\n",
       "      <td>45000</td>\n",
       "      <td>53000</td>\n",
       "      <td>64000</td>\n",
       "      <td>66000</td>\n",
       "      <td>77000</td>\n",
       "      <td>85000</td>\n",
       "      <td>86000</td>\n",
       "    </tr>\n",
       "  </tbody>\n",
       "</table>\n",
       "</div>"
      ],
      "text/plain": [
       "           Country        1985        1990        1995        2000  \\\n",
       "0      Afghanistan  13,120,000  13,569,000  19,446,000  22,462,000   \n",
       "1          Albania   2,957,000   3,245,000   3,159,000   3,159,000   \n",
       "2          Algeria  22,009,000  25,191,000  28,322,000  30,639,000   \n",
       "3   American Samoa       39000       48000       54000       58000   \n",
       "4          Andorra       45000       53000       64000       66000   \n",
       "\n",
       "         2005        2010        2015  \n",
       "0  26,335,000  29,121,000  32,565,000  \n",
       "1   3,025,000   2,987,000   3,030,000  \n",
       "2  32,918,000  35,950,000  39,543,000  \n",
       "3       57000       56000       55000  \n",
       "4       77000       85000       86000  "
      ]
     },
     "execution_count": 6,
     "metadata": {},
     "output_type": "execute_result"
    }
   ],
   "source": [
    "#Create a reference the CSV file desired\n",
    "csv_path = \"Historical Populations by Country.csv\"\n",
    "\n",
    "# Read the CSV into a Pandas DataFrame\n",
    "population_df = pd.read_csv(csv_path, encoding = \"ISO-8859-1\")\n",
    "\n",
    "# Print the first five rows of data to the screen\n",
    "population_df.head()"
   ]
  },
  {
   "cell_type": "code",
   "execution_count": 7,
   "metadata": {},
   "outputs": [
    {
     "data": {
      "text/html": [
       "<div>\n",
       "<style>\n",
       "    .dataframe thead tr:only-child th {\n",
       "        text-align: right;\n",
       "    }\n",
       "\n",
       "    .dataframe thead th {\n",
       "        text-align: left;\n",
       "    }\n",
       "\n",
       "    .dataframe tbody tr th {\n",
       "        vertical-align: top;\n",
       "    }\n",
       "</style>\n",
       "<table border=\"1\" class=\"dataframe\">\n",
       "  <thead>\n",
       "    <tr style=\"text-align: right;\">\n",
       "      <th></th>\n",
       "      <th>Country</th>\n",
       "      <th>2000</th>\n",
       "      <th>2005</th>\n",
       "      <th>2010</th>\n",
       "      <th>2015</th>\n",
       "    </tr>\n",
       "  </thead>\n",
       "  <tbody>\n",
       "    <tr>\n",
       "      <th>0</th>\n",
       "      <td>Afghanistan</td>\n",
       "      <td>22,462,000</td>\n",
       "      <td>26,335,000</td>\n",
       "      <td>29,121,000</td>\n",
       "      <td>32,565,000</td>\n",
       "    </tr>\n",
       "    <tr>\n",
       "      <th>1</th>\n",
       "      <td>Albania</td>\n",
       "      <td>3,159,000</td>\n",
       "      <td>3,025,000</td>\n",
       "      <td>2,987,000</td>\n",
       "      <td>3,030,000</td>\n",
       "    </tr>\n",
       "    <tr>\n",
       "      <th>2</th>\n",
       "      <td>Algeria</td>\n",
       "      <td>30,639,000</td>\n",
       "      <td>32,918,000</td>\n",
       "      <td>35,950,000</td>\n",
       "      <td>39,543,000</td>\n",
       "    </tr>\n",
       "    <tr>\n",
       "      <th>3</th>\n",
       "      <td>American Samoa</td>\n",
       "      <td>58000</td>\n",
       "      <td>57000</td>\n",
       "      <td>56000</td>\n",
       "      <td>55000</td>\n",
       "    </tr>\n",
       "    <tr>\n",
       "      <th>4</th>\n",
       "      <td>Andorra</td>\n",
       "      <td>66000</td>\n",
       "      <td>77000</td>\n",
       "      <td>85000</td>\n",
       "      <td>86000</td>\n",
       "    </tr>\n",
       "  </tbody>\n",
       "</table>\n",
       "</div>"
      ],
      "text/plain": [
       "           Country        2000        2005        2010        2015\n",
       "0      Afghanistan  22,462,000  26,335,000  29,121,000  32,565,000\n",
       "1          Albania   3,159,000   3,025,000   2,987,000   3,030,000\n",
       "2          Algeria  30,639,000  32,918,000  35,950,000  39,543,000\n",
       "3   American Samoa       58000       57000       56000       55000\n",
       "4          Andorra       66000       77000       85000       86000"
      ]
     },
     "execution_count": 7,
     "metadata": {},
     "output_type": "execute_result"
    }
   ],
   "source": [
    "population_df= population_df.drop(population_df.columns[[1,2,3]], axis=1)\n",
    "population_df.head()\n"
   ]
  },
  {
   "cell_type": "code",
   "execution_count": 11,
   "metadata": {},
   "outputs": [
    {
     "ename": "TypeError",
     "evalue": "cannot convert the series to <class 'int'>",
     "output_type": "error",
     "traceback": [
      "\u001b[1;31m---------------------------------------------------------------------------\u001b[0m",
      "\u001b[1;31mTypeError\u001b[0m                                 Traceback (most recent call last)",
      "\u001b[1;32m<ipython-input-11-9d66509494e7>\u001b[0m in \u001b[0;36m<module>\u001b[1;34m()\u001b[0m\n\u001b[1;32m----> 1\u001b[1;33m \u001b[0mchunk_2000_2005\u001b[0m\u001b[1;33m=\u001b[0m \u001b[1;33m(\u001b[0m\u001b[0mint\u001b[0m\u001b[1;33m(\u001b[0m\u001b[0mpopulation_df\u001b[0m\u001b[1;33m[\u001b[0m\u001b[1;34m\"2005\"\u001b[0m\u001b[1;33m]\u001b[0m\u001b[1;33m)\u001b[0m\u001b[1;33m-\u001b[0m\u001b[0mint\u001b[0m\u001b[1;33m(\u001b[0m\u001b[0mpopulation_df\u001b[0m\u001b[1;33m[\u001b[0m\u001b[1;34m\"2000\"\u001b[0m\u001b[1;33m]\u001b[0m\u001b[1;33m)\u001b[0m\u001b[1;33m)\u001b[0m\u001b[1;33m/\u001b[0m\u001b[1;36m4\u001b[0m\u001b[1;33m\u001b[0m\u001b[0m\n\u001b[0m\u001b[0;32m      2\u001b[0m \u001b[0mpop_2001\u001b[0m\u001b[1;33m=\u001b[0m \u001b[0mpopulation_df\u001b[0m\u001b[1;33m[\u001b[0m\u001b[1;34m\"2000\"\u001b[0m\u001b[1;33m]\u001b[0m\u001b[1;33m+\u001b[0m\u001b[0mchunk_2000_2005\u001b[0m\u001b[1;33m\u001b[0m\u001b[0m\n\u001b[0;32m      3\u001b[0m \u001b[0mpopulation_df\u001b[0m\u001b[1;33m[\u001b[0m\u001b[1;34m\"2001\"\u001b[0m\u001b[1;33m]\u001b[0m\u001b[1;33m=\u001b[0m \u001b[0mpop_2001\u001b[0m\u001b[1;33m\u001b[0m\u001b[0m\n\u001b[0;32m      4\u001b[0m \u001b[0mpopulation_df\u001b[0m\u001b[1;33m.\u001b[0m\u001b[0mhead\u001b[0m\u001b[1;33m(\u001b[0m\u001b[1;33m)\u001b[0m\u001b[1;33m\u001b[0m\u001b[0m\n",
      "\u001b[1;32m~\\Anaconda3\\lib\\site-packages\\pandas\\core\\series.py\u001b[0m in \u001b[0;36mwrapper\u001b[1;34m(self)\u001b[0m\n\u001b[0;32m     95\u001b[0m             \u001b[1;32mreturn\u001b[0m \u001b[0mconverter\u001b[0m\u001b[1;33m(\u001b[0m\u001b[0mself\u001b[0m\u001b[1;33m.\u001b[0m\u001b[0miloc\u001b[0m\u001b[1;33m[\u001b[0m\u001b[1;36m0\u001b[0m\u001b[1;33m]\u001b[0m\u001b[1;33m)\u001b[0m\u001b[1;33m\u001b[0m\u001b[0m\n\u001b[0;32m     96\u001b[0m         raise TypeError(\"cannot convert the series to \"\n\u001b[1;32m---> 97\u001b[1;33m                         \"{0}\".format(str(converter)))\n\u001b[0m\u001b[0;32m     98\u001b[0m \u001b[1;33m\u001b[0m\u001b[0m\n\u001b[0;32m     99\u001b[0m     \u001b[1;32mreturn\u001b[0m \u001b[0mwrapper\u001b[0m\u001b[1;33m\u001b[0m\u001b[0m\n",
      "\u001b[1;31mTypeError\u001b[0m: cannot convert the series to <class 'int'>"
     ]
    }
   ],
   "source": [
    "chunk_2000_2005= (int(population_df[\"2005\"])-int(population_df[\"2000\"]))/4\n",
    "pop_2001= population_df[\"2000\"]+chunk_2000_2005\n",
    "population_df[\"2001\"]= pop_2001\n",
    "population_df.head()"
   ]
  },
  {
   "cell_type": "code",
   "execution_count": 9,
   "metadata": {},
   "outputs": [
    {
     "ename": "SyntaxError",
     "evalue": "invalid syntax (<ipython-input-9-b6c9298f20e4>, line 8)",
     "output_type": "error",
     "traceback": [
      "\u001b[1;36m  File \u001b[1;32m\"<ipython-input-9-b6c9298f20e4>\"\u001b[1;36m, line \u001b[1;32m8\u001b[0m\n\u001b[1;33m    slope_2015=\u001b[0m\n\u001b[1;37m               ^\u001b[0m\n\u001b[1;31mSyntaxError\u001b[0m\u001b[1;31m:\u001b[0m invalid syntax\n"
     ]
    }
   ],
   "source": [
    "#Add additional year columns\n",
    "year=2000\n",
    "year_2001=[]\n",
    "year_2002=[]\n",
    "year_2003=[]\n",
    "year_2004=[]\n",
    "\n",
    "year_2006=[]\n",
    "year_2007=[]\n",
    "year_2008=[]\n",
    "year_2009=[]\n",
    "\n",
    "year_2011=[]\n",
    "year_2012=[]\n",
    "year_2013=[]\n",
    "\n",
    "for row in population_df:\n",
    "    \n",
    "    approx_change= \n",
    "    \n",
    "    year_2001.append()\n",
    "    year_2002.append()\n",
    "    year_2003.append()\n",
    "    year_2004.append()\n",
    "\n",
    "    year_2006.append()\n",
    "    year_2007.append()\n",
    "    year_2008.append()\n",
    "    year_2009.append()\n",
    "\n",
    "    year_2011.append()\n",
    "    year_2012.append()\n",
    "    year_2013.append()"
   ]
  },
  {
   "cell_type": "code",
   "execution_count": null,
   "metadata": {
    "collapsed": true
   },
   "outputs": [],
   "source": []
  },
  {
   "cell_type": "code",
   "execution_count": null,
   "metadata": {
    "collapsed": true
   },
   "outputs": [],
   "source": []
  },
  {
   "cell_type": "code",
   "execution_count": null,
   "metadata": {
    "collapsed": true
   },
   "outputs": [],
   "source": []
  },
  {
   "cell_type": "code",
   "execution_count": null,
   "metadata": {
    "collapsed": true
   },
   "outputs": [],
   "source": []
  }
 ],
 "metadata": {
  "kernelspec": {
   "display_name": "Python 3",
   "language": "python",
   "name": "python3"
  },
  "language_info": {
   "codemirror_mode": {
    "name": "ipython",
    "version": 3
   },
   "file_extension": ".py",
   "mimetype": "text/x-python",
   "name": "python",
   "nbconvert_exporter": "python",
   "pygments_lexer": "ipython3",
   "version": "3.6.3"
  }
 },
 "nbformat": 4,
 "nbformat_minor": 2
}
